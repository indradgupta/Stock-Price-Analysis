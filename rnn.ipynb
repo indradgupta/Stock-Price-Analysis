{
 "cells": [
  {
   "cell_type": "markdown",
   "metadata": {
    "colab_type": "text",
    "id": "ir9zwETrfbrp"
   },
   "source": [
    "### Importing the libraries"
   ]
  },
  {
   "cell_type": "code",
   "execution_count": 1,
   "metadata": {
    "colab": {},
    "colab_type": "code",
    "id": "ZT1f24vHffuf"
   },
   "outputs": [],
   "source": [
    "import numpy as np\n",
    "import matplotlib.pyplot as plt\n",
    "import pandas as pd"
   ]
  },
  {
   "cell_type": "markdown",
   "metadata": {
    "colab_type": "text",
    "id": "nQ47JAxrgmaL"
   },
   "source": [
    "### Importing the training set"
   ]
  },
  {
   "cell_type": "code",
   "execution_count": 2,
   "metadata": {
    "colab": {},
    "colab_type": "code",
    "id": "1xiv3pJOgqY3"
   },
   "outputs": [
    {
     "data": {
      "text/html": [
       "<div>\n",
       "<style scoped>\n",
       "    .dataframe tbody tr th:only-of-type {\n",
       "        vertical-align: middle;\n",
       "    }\n",
       "\n",
       "    .dataframe tbody tr th {\n",
       "        vertical-align: top;\n",
       "    }\n",
       "\n",
       "    .dataframe thead th {\n",
       "        text-align: right;\n",
       "    }\n",
       "</style>\n",
       "<table border=\"1\" class=\"dataframe\">\n",
       "  <thead>\n",
       "    <tr style=\"text-align: right;\">\n",
       "      <th></th>\n",
       "      <th>Date</th>\n",
       "      <th>Open</th>\n",
       "      <th>High</th>\n",
       "      <th>Low</th>\n",
       "      <th>Close</th>\n",
       "      <th>Volume</th>\n",
       "    </tr>\n",
       "  </thead>\n",
       "  <tbody>\n",
       "    <tr>\n",
       "      <td>0</td>\n",
       "      <td>1/3/2012</td>\n",
       "      <td>325.25</td>\n",
       "      <td>332.83</td>\n",
       "      <td>324.97</td>\n",
       "      <td>663.59</td>\n",
       "      <td>7,380,500</td>\n",
       "    </tr>\n",
       "    <tr>\n",
       "      <td>1</td>\n",
       "      <td>1/4/2012</td>\n",
       "      <td>331.27</td>\n",
       "      <td>333.87</td>\n",
       "      <td>329.08</td>\n",
       "      <td>666.45</td>\n",
       "      <td>5,749,400</td>\n",
       "    </tr>\n",
       "    <tr>\n",
       "      <td>2</td>\n",
       "      <td>1/5/2012</td>\n",
       "      <td>329.83</td>\n",
       "      <td>330.75</td>\n",
       "      <td>326.89</td>\n",
       "      <td>657.21</td>\n",
       "      <td>6,590,300</td>\n",
       "    </tr>\n",
       "    <tr>\n",
       "      <td>3</td>\n",
       "      <td>1/6/2012</td>\n",
       "      <td>328.34</td>\n",
       "      <td>328.77</td>\n",
       "      <td>323.68</td>\n",
       "      <td>648.24</td>\n",
       "      <td>5,405,900</td>\n",
       "    </tr>\n",
       "    <tr>\n",
       "      <td>4</td>\n",
       "      <td>1/9/2012</td>\n",
       "      <td>322.04</td>\n",
       "      <td>322.29</td>\n",
       "      <td>309.46</td>\n",
       "      <td>620.76</td>\n",
       "      <td>11,688,800</td>\n",
       "    </tr>\n",
       "  </tbody>\n",
       "</table>\n",
       "</div>"
      ],
      "text/plain": [
       "       Date    Open    High     Low   Close      Volume\n",
       "0  1/3/2012  325.25  332.83  324.97  663.59   7,380,500\n",
       "1  1/4/2012  331.27  333.87  329.08  666.45   5,749,400\n",
       "2  1/5/2012  329.83  330.75  326.89  657.21   6,590,300\n",
       "3  1/6/2012  328.34  328.77  323.68  648.24   5,405,900\n",
       "4  1/9/2012  322.04  322.29  309.46  620.76  11,688,800"
      ]
     },
     "execution_count": 2,
     "metadata": {},
     "output_type": "execute_result"
    }
   ],
   "source": [
    "dataset_train = pd.read_csv('Google_Stock_Price_Train.csv')\n",
    "dataset_train.head()"
   ]
  },
  {
   "cell_type": "code",
   "execution_count": 3,
   "metadata": {},
   "outputs": [],
   "source": [
    "training_set = dataset_train.reset_index()['Open']"
   ]
  },
  {
   "cell_type": "code",
   "execution_count": 4,
   "metadata": {},
   "outputs": [
    {
     "data": {
      "text/plain": [
       "[<matplotlib.lines.Line2D at 0x1c4f9964978>]"
      ]
     },
     "execution_count": 4,
     "metadata": {},
     "output_type": "execute_result"
    },
    {
     "data": {
      "image/png": "[encoded data removed]",
      "text/plain": [
       "<Figure size 432x288 with 1 Axes>"
      ]
     },
     "metadata": {
      "needs_background": "light"
     },
     "output_type": "display_data"
    }
   ],
   "source": [
    "plt.plot(training_set)"
   ]
  },
  {
   "cell_type": "code",
   "execution_count": 5,
   "metadata": {},
   "outputs": [],
   "source": [
    "training_set = np.array(training_set).reshape(-1,1)"
   ]
  },
  {
   "cell_type": "code",
   "execution_count": 6,
   "metadata": {},
   "outputs": [
    {
     "data": {
      "text/plain": [
       "(1258, 1)"
      ]
     },
     "execution_count": 6,
     "metadata": {},
     "output_type": "execute_result"
    }
   ],
   "source": [
    "training_set.shape"
   ]
  },
  {
   "cell_type": "markdown",
   "metadata": {
    "colab_type": "text",
    "id": "HT8_2UJegtG5"
   },
   "source": [
    "### Feature Scaling"
   ]
  },
  {
   "cell_type": "code",
   "execution_count": 7,
   "metadata": {
    "colab": {},
    "colab_type": "code",
    "id": "OTrF2kR7gx9x"
   },
   "outputs": [],
   "source": [
    "from sklearn.preprocessing import MinMaxScaler\n",
    "sc = MinMaxScaler(feature_range = (0, 1))\n",
    "training_set = sc.fit_transform(training_set)"
   ]
  },
  {
   "cell_type": "code",
   "execution_count": 8,
   "metadata": {},
   "outputs": [],
   "source": [
    "train_size = int(len(training_set)*0.9)\n",
    "test_size = len(training_set)-train_size"
   ]
  },
  {
   "cell_type": "code",
   "execution_count": 9,
   "metadata": {},
   "outputs": [
    {
     "name": "stdout",
     "output_type": "stream",
     "text": [
      "1132 126\n"
     ]
    }
   ],
   "source": [
    "print(train_size,test_size)"
   ]
  },
  {
   "cell_type": "code",
   "execution_count": 10,
   "metadata": {},
   "outputs": [],
   "source": [
    "train = training_set[0:train_size,:]\n",
    "test = training_set[train_size:len(training_set),:]"
   ]
  },
  {
   "cell_type": "markdown",
   "metadata": {
    "colab_type": "text",
    "id": "JyYgYocqhNUg"
   },
   "source": [
    "# 100 timesteps and 1 output"
   ]
  },
  {
   "cell_type": "code",
   "execution_count": 11,
   "metadata": {
    "colab": {},
    "colab_type": "code",
    "id": "iofU21B0i6ST"
   },
   "outputs": [],
   "source": [
    "time_step=100\n",
    "def create_timesteps(data):\n",
    "    X_data = []\n",
    "    y_data = []\n",
    "    for i in range(time_step, len(data)):\n",
    "        X_data.append(data[i-time_step:i, 0])\n",
    "        y_data.append(data[i, 0])\n",
    "    X_data, y_data = np.array(X_data), np.array(y_data)\n",
    "    return X_data,y_data"
   ]
  },
  {
   "cell_type": "code",
   "execution_count": 12,
   "metadata": {},
   "outputs": [],
   "source": [
    "X_train,y_train = create_timesteps(train)\n",
    "X_test,y_test = create_timesteps(test) "
   ]
  },
  {
   "cell_type": "markdown",
   "metadata": {
    "colab_type": "text",
    "id": "D8yaN7Zvi95l"
   },
   "source": [
    "### Reshaping"
   ]
  },
  {
   "cell_type": "code",
   "execution_count": 13,
   "metadata": {
    "colab": {},
    "colab_type": "code",
    "id": "FOXqJHmNjBkz"
   },
   "outputs": [],
   "source": [
    "X_train = np.reshape(X_train, (X_train.shape[0], X_train.shape[1], 1))\n",
    "X_test = np.reshape(X_test, (X_test.shape[0], X_test.shape[1], 1))"
   ]
  },
  {
   "cell_type": "code",
   "execution_count": 14,
   "metadata": {},
   "outputs": [
    {
     "name": "stdout",
     "output_type": "stream",
     "text": [
      "(1032, 100, 1)\n",
      "(1032,)\n"
     ]
    },
    {
     "data": {
      "text/plain": [
       "(None, None)"
      ]
     },
     "execution_count": 14,
     "metadata": {},
     "output_type": "execute_result"
    }
   ],
   "source": [
    "print(X_train.shape), print(y_train.shape)"
   ]
  },
  {
   "cell_type": "code",
   "execution_count": 15,
   "metadata": {},
   "outputs": [
    {
     "name": "stdout",
     "output_type": "stream",
     "text": [
      "(26, 100, 1)\n",
      "(26,)\n"
     ]
    },
    {
     "data": {
      "text/plain": [
       "(None, None)"
      ]
     },
     "execution_count": 15,
     "metadata": {},
     "output_type": "execute_result"
    }
   ],
   "source": [
    "print(X_test.shape), print(y_test.shape)"
   ]
  },
  {
   "cell_type": "markdown",
   "metadata": {
    "colab_type": "text",
    "id": "k4XV88JMjHXG"
   },
   "source": [
    "### Importing the Keras libraries and packages"
   ]
  },
  {
   "cell_type": "code",
   "execution_count": 16,
   "metadata": {
    "colab": {
     "base_uri": "https://localhost:8080/",
     "height": 34
    },
    "colab_type": "code",
    "id": "9JRnqsxEjKsD",
    "outputId": "b3e23e78-18aa-4396-c923-c877b8de60e4"
   },
   "outputs": [
    {
     "name": "stderr",
     "output_type": "stream",
     "text": [
      "Using TensorFlow backend.\n"
     ]
    }
   ],
   "source": [
    "from keras.models import Sequential\n",
    "from keras.layers import Dense\n",
    "from keras.layers import LSTM\n",
    "from keras.layers import Dropout"
   ]
  },
  {
   "cell_type": "markdown",
   "metadata": {
    "colab_type": "text",
    "id": "FEIE-1s9jNzC"
   },
   "source": [
    "### Initialising the RNN"
   ]
  },
  {
   "cell_type": "code",
   "execution_count": 17,
   "metadata": {
    "colab": {},
    "colab_type": "code",
    "id": "1338dJ0UjRKH"
   },
   "outputs": [],
   "source": [
    "regressor = Sequential()"
   ]
  },
  {
   "cell_type": "markdown",
   "metadata": {
    "colab_type": "text",
    "id": "62eg1OPGjT8z"
   },
   "source": [
    "# Adding the LSTM layer"
   ]
  },
  {
   "cell_type": "code",
   "execution_count": 18,
   "metadata": {
    "colab": {},
    "colab_type": "code",
    "id": "2hIinyXUjbVU"
   },
   "outputs": [],
   "source": [
    "regressor.add(LSTM(units = 50, return_sequences = True, input_shape = (X_train.shape[1], 1)))\n",
    "#regressor.add(Dropout(0.2))"
   ]
  },
  {
   "cell_type": "code",
   "execution_count": 19,
   "metadata": {
    "colab": {},
    "colab_type": "code",
    "id": "UG7nrVaSjuZ2"
   },
   "outputs": [],
   "source": [
    "regressor.add(LSTM(units = 50, return_sequences = True))"
   ]
  },
  {
   "cell_type": "code",
   "execution_count": 20,
   "metadata": {
    "colab": {},
    "colab_type": "code",
    "id": "Jp4Ty8fRkBYV"
   },
   "outputs": [
    {
     "name": "stdout",
     "output_type": "stream",
     "text": [
      "Model: \"sequential_1\"\n",
      "_________________________________________________________________\n",
      "Layer (type)                 Output Shape              Param #   \n",
      "=================================================================\n",
      "lstm_1 (LSTM)                (None, 100, 50)           10400     \n",
      "_________________________________________________________________\n",
      "lstm_2 (LSTM)                (None, 100, 50)           20200     \n",
      "_________________________________________________________________\n",
      "lstm_3 (LSTM)                (None, 50)                20200     \n",
      "=================================================================\n",
      "Total params: 50,800\n",
      "Trainable params: 50,800\n",
      "Non-trainable params: 0\n",
      "_________________________________________________________________\n"
     ]
    }
   ],
   "source": [
    "regressor.add(LSTM(units = 50))\n",
    "regressor.summary()"
   ]
  },
  {
   "cell_type": "markdown",
   "metadata": {
    "colab_type": "text",
    "id": "9ABI6rOIkHhk"
   },
   "source": [
    "### Adding the output layer"
   ]
  },
  {
   "cell_type": "code",
   "execution_count": 21,
   "metadata": {
    "colab": {},
    "colab_type": "code",
    "id": "aM6R1z4WkME8"
   },
   "outputs": [],
   "source": [
    "regressor.add(Dense(units = 1))"
   ]
  },
  {
   "cell_type": "markdown",
   "metadata": {
    "colab_type": "text",
    "id": "zLx4K7uUkPSh"
   },
   "source": [
    "### Compiling the RNN"
   ]
  },
  {
   "cell_type": "code",
   "execution_count": 22,
   "metadata": {
    "colab": {},
    "colab_type": "code",
    "id": "XTrhVN-tkbko"
   },
   "outputs": [],
   "source": [
    "regressor.compile(optimizer = 'adam', loss = 'mean_squared_error')"
   ]
  },
  {
   "cell_type": "markdown",
   "metadata": {
    "colab_type": "text",
    "id": "-mPhwKGkkebi"
   },
   "source": [
    "### Fitting the RNN to the Training set"
   ]
  },
  {
   "cell_type": "code",
   "execution_count": 23,
   "metadata": {
    "colab": {
     "base_uri": "https://localhost:8080/",
     "height": 1000
    },
    "colab_type": "code",
    "id": "I06Nkrz5kkb-",
    "outputId": "dc9d947a-4d5c-4dbc-ed45-31bf44b98dfb"
   },
   "outputs": [
    {
     "name": "stdout",
     "output_type": "stream",
     "text": [
      "Train on 1032 samples, validate on 26 samples\n",
      "Epoch 1/100\n",
      "1032/1032 [==============================] - 8s 8ms/step - loss: 0.0412 - val_loss: 0.0200\n",
      "Epoch 2/100\n",
      "1032/1032 [==============================] - 7s 7ms/step - loss: 0.0032 - val_loss: 0.0022\n",
      "Epoch 3/100\n",
      "1032/1032 [==============================] - 7s 7ms/step - loss: 0.0019 - val_loss: 0.0047\n",
      "Epoch 4/100\n",
      "1032/1032 [==============================] - 7s 7ms/step - loss: 0.0019 - val_loss: 0.0014\n",
      "Epoch 5/100\n",
      "1032/1032 [==============================] - 7s 7ms/step - loss: 0.0017 - val_loss: 0.0018\n",
      "Epoch 6/100\n",
      "1032/1032 [==============================] - 7s 7ms/step - loss: 0.0017 - val_loss: 0.0016\n",
      "Epoch 7/100\n",
      "1032/1032 [==============================] - 7s 7ms/step - loss: 0.0016 - val_loss: 0.0010\n",
      "Epoch 8/100\n",
      "1032/1032 [==============================] - 7s 7ms/step - loss: 0.0015 - val_loss: 7.9124e-04\n",
      "Epoch 9/100\n",
      "1032/1032 [==============================] - 7s 7ms/step - loss: 0.0015 - val_loss: 8.5183e-04\n",
      "Epoch 10/100\n",
      "1032/1032 [==============================] - 7s 7ms/step - loss: 0.0015 - val_loss: 0.0052\n",
      "Epoch 11/100\n",
      "1032/1032 [==============================] - 7s 7ms/step - loss: 0.0015 - val_loss: 8.9315e-04\n",
      "Epoch 12/100\n",
      "1032/1032 [==============================] - 7s 7ms/step - loss: 0.0014 - val_loss: 0.0020\n",
      "Epoch 13/100\n",
      "1032/1032 [==============================] - 7s 7ms/step - loss: 0.0014 - val_loss: 0.0015\n",
      "Epoch 14/100\n",
      "1032/1032 [==============================] - 7s 7ms/step - loss: 0.0013 - val_loss: 6.4413e-04\n",
      "Epoch 15/100\n",
      "1032/1032 [==============================] - 7s 7ms/step - loss: 0.0012 - val_loss: 0.0044\n",
      "Epoch 16/100\n",
      "1032/1032 [==============================] - 7s 7ms/step - loss: 0.0013 - val_loss: 7.1991e-04\n",
      "Epoch 17/100\n",
      "1032/1032 [==============================] - 7s 7ms/step - loss: 0.0012 - val_loss: 0.0012\n",
      "Epoch 18/100\n",
      "1032/1032 [==============================] - 7s 7ms/step - loss: 0.0012 - val_loss: 0.0011\n",
      "Epoch 19/100\n",
      "1032/1032 [==============================] - 7s 7ms/step - loss: 0.0012 - val_loss: 0.0031\n",
      "Epoch 20/100\n",
      "1032/1032 [==============================] - 7s 7ms/step - loss: 0.0011 - val_loss: 8.5125e-04\n",
      "Epoch 21/100\n",
      "1032/1032 [==============================] - 7s 7ms/step - loss: 0.0011 - val_loss: 6.0959e-04\n",
      "Epoch 22/100\n",
      "1032/1032 [==============================] - 7s 7ms/step - loss: 0.0012 - val_loss: 0.0015\n",
      "Epoch 23/100\n",
      "1032/1032 [==============================] - 7s 7ms/step - loss: 0.0012 - val_loss: 0.0023\n",
      "Epoch 24/100\n",
      "1032/1032 [==============================] - 7s 7ms/step - loss: 0.0012 - val_loss: 6.7774e-04\n",
      "Epoch 25/100\n",
      "1032/1032 [==============================] - 7s 7ms/step - loss: 0.0010 - val_loss: 0.0012\n",
      "Epoch 26/100\n",
      "1032/1032 [==============================] - 7s 7ms/step - loss: 0.0010 - val_loss: 0.0024\n",
      "Epoch 27/100\n",
      "1032/1032 [==============================] - 7s 7ms/step - loss: 0.0010 - val_loss: 0.0041\n",
      "Epoch 28/100\n",
      "1032/1032 [==============================] - 7s 7ms/step - loss: 0.0013 - val_loss: 8.7521e-04\n",
      "Epoch 29/100\n",
      "1032/1032 [==============================] - 7s 7ms/step - loss: 9.9102e-04 - val_loss: 5.0726e-04\n",
      "Epoch 30/100\n",
      "1032/1032 [==============================] - 7s 7ms/step - loss: 9.1263e-04 - val_loss: 7.2747e-04\n",
      "Epoch 31/100\n",
      "1032/1032 [==============================] - 7s 7ms/step - loss: 8.8081e-04 - val_loss: 0.0012\n",
      "Epoch 32/100\n",
      "1032/1032 [==============================] - 7s 7ms/step - loss: 8.9950e-04 - val_loss: 5.2825e-04\n",
      "Epoch 33/100\n",
      "1032/1032 [==============================] - 7s 7ms/step - loss: 0.0011 - val_loss: 7.2032e-04\n",
      "Epoch 34/100\n",
      "1032/1032 [==============================] - 7s 7ms/step - loss: 8.8044e-04 - val_loss: 4.3991e-04\n",
      "Epoch 35/100\n",
      "1032/1032 [==============================] - 7s 7ms/step - loss: 7.7928e-04 - val_loss: 0.0011\n",
      "Epoch 36/100\n",
      "1032/1032 [==============================] - 7s 7ms/step - loss: 7.6829e-04 - val_loss: 0.0025\n",
      "Epoch 37/100\n",
      "1032/1032 [==============================] - 7s 7ms/step - loss: 9.4962e-04 - val_loss: 4.3165e-04\n",
      "Epoch 38/100\n",
      "1032/1032 [==============================] - 7s 7ms/step - loss: 8.6455e-04 - val_loss: 4.0080e-04\n",
      "Epoch 39/100\n",
      "1032/1032 [==============================] - 7s 7ms/step - loss: 7.5224e-04 - val_loss: 4.7668e-04\n",
      "Epoch 40/100\n",
      "1032/1032 [==============================] - 7s 7ms/step - loss: 6.6649e-04 - val_loss: 3.2833e-04\n",
      "Epoch 41/100\n",
      "1032/1032 [==============================] - 7s 7ms/step - loss: 6.3969e-04 - val_loss: 6.4003e-04\n",
      "Epoch 42/100\n",
      "1032/1032 [==============================] - 7s 7ms/step - loss: 6.1389e-04 - val_loss: 2.9406e-04\n",
      "Epoch 43/100\n",
      "1032/1032 [==============================] - 7s 7ms/step - loss: 6.1795e-04 - val_loss: 4.5845e-04\n",
      "Epoch 44/100\n",
      "1032/1032 [==============================] - 7s 7ms/step - loss: 6.0779e-04 - val_loss: 0.0012\n",
      "Epoch 45/100\n",
      "1032/1032 [==============================] - 7s 7ms/step - loss: 7.0871e-04 - val_loss: 0.0014\n",
      "Epoch 46/100\n",
      "1032/1032 [==============================] - 7s 7ms/step - loss: 6.0575e-04 - val_loss: 2.6839e-04\n",
      "Epoch 47/100\n",
      "1032/1032 [==============================] - 7s 7ms/step - loss: 5.5197e-04 - val_loss: 5.3561e-04\n",
      "Epoch 48/100\n",
      "1032/1032 [==============================] - 7s 7ms/step - loss: 5.4141e-04 - val_loss: 0.0016\n",
      "Epoch 49/100\n",
      "1032/1032 [==============================] - 7s 7ms/step - loss: 5.0161e-04 - val_loss: 4.7390e-04\n",
      "Epoch 50/100\n",
      "1032/1032 [==============================] - 7s 7ms/step - loss: 5.6315e-04 - val_loss: 4.2553e-04\n",
      "Epoch 51/100\n",
      "1032/1032 [==============================] - 7s 7ms/step - loss: 5.0816e-04 - val_loss: 0.0040\n",
      "Epoch 52/100\n",
      "1032/1032 [==============================] - 7s 7ms/step - loss: 7.3914e-04 - val_loss: 2.3036e-04\n",
      "Epoch 53/100\n",
      "1032/1032 [==============================] - 7s 7ms/step - loss: 4.7796e-04 - val_loss: 2.4031e-04\n",
      "Epoch 54/100\n",
      "1032/1032 [==============================] - 7s 7ms/step - loss: 4.3803e-04 - val_loss: 2.3842e-04\n",
      "Epoch 55/100\n",
      "1032/1032 [==============================] - 7s 7ms/step - loss: 4.9805e-04 - val_loss: 5.7399e-04\n",
      "Epoch 56/100\n",
      "1032/1032 [==============================] - 7s 7ms/step - loss: 4.2123e-04 - val_loss: 6.1313e-04\n",
      "Epoch 57/100\n",
      "1032/1032 [==============================] - 7s 7ms/step - loss: 4.5179e-04 - val_loss: 2.0978e-04\n",
      "Epoch 58/100\n",
      "1032/1032 [==============================] - 7s 7ms/step - loss: 4.6031e-04 - val_loss: 2.1414e-04\n",
      "Epoch 59/100\n",
      "1032/1032 [==============================] - 7s 7ms/step - loss: 4.2503e-04 - val_loss: 0.0017\n",
      "Epoch 60/100\n",
      "1032/1032 [==============================] - 7s 7ms/step - loss: 4.2012e-04 - val_loss: 4.3595e-04\n",
      "Epoch 61/100\n",
      "1032/1032 [==============================] - 7s 7ms/step - loss: 4.2970e-04 - val_loss: 2.6130e-04\n",
      "Epoch 62/100\n",
      "1032/1032 [==============================] - 7s 7ms/step - loss: 3.9035e-04 - val_loss: 4.2089e-04\n",
      "Epoch 63/100\n",
      "1032/1032 [==============================] - 7s 7ms/step - loss: 4.0684e-04 - val_loss: 4.0425e-04\n",
      "Epoch 64/100\n",
      "1032/1032 [==============================] - 7s 7ms/step - loss: 4.3699e-04 - val_loss: 2.0967e-04\n",
      "Epoch 65/100\n",
      "1032/1032 [==============================] - 7s 7ms/step - loss: 4.3304e-04 - val_loss: 2.6953e-04\n",
      "Epoch 66/100\n",
      "1032/1032 [==============================] - 7s 7ms/step - loss: 3.8188e-04 - val_loss: 3.5095e-04\n",
      "Epoch 67/100\n",
      "1032/1032 [==============================] - 7s 7ms/step - loss: 3.6874e-04 - val_loss: 0.0014\n",
      "Epoch 68/100\n",
      "1032/1032 [==============================] - 7s 7ms/step - loss: 4.2226e-04 - val_loss: 5.6655e-04\n",
      "Epoch 69/100\n",
      "1032/1032 [==============================] - 7s 7ms/step - loss: 3.5203e-04 - val_loss: 3.9211e-04\n",
      "Epoch 70/100\n",
      "1032/1032 [==============================] - 7s 7ms/step - loss: 3.3731e-04 - val_loss: 8.9411e-04\n",
      "Epoch 71/100\n",
      "1032/1032 [==============================] - 7s 7ms/step - loss: 3.8223e-04 - val_loss: 1.9788e-04\n",
      "Epoch 72/100\n",
      "1032/1032 [==============================] - 7s 7ms/step - loss: 3.6380e-04 - val_loss: 1.9858e-04\n",
      "Epoch 73/100\n",
      "1032/1032 [==============================] - 7s 7ms/step - loss: 3.3813e-04 - val_loss: 3.3343e-04\n",
      "Epoch 74/100\n",
      "1032/1032 [==============================] - 7s 7ms/step - loss: 3.5153e-04 - val_loss: 2.6353e-04\n",
      "Epoch 75/100\n",
      "1032/1032 [==============================] - 7s 7ms/step - loss: 3.6966e-04 - val_loss: 3.1048e-04\n"
     ]
    },
    {
     "name": "stdout",
     "output_type": "stream",
     "text": [
      "Epoch 76/100\n",
      "1032/1032 [==============================] - 7s 7ms/step - loss: 3.7163e-04 - val_loss: 8.0644e-04\n",
      "Epoch 77/100\n",
      "1032/1032 [==============================] - 7s 7ms/step - loss: 3.6489e-04 - val_loss: 7.1263e-04\n",
      "Epoch 78/100\n",
      "1032/1032 [==============================] - 7s 7ms/step - loss: 4.6049e-04 - val_loss: 7.4485e-04\n",
      "Epoch 79/100\n",
      "1032/1032 [==============================] - 7s 7ms/step - loss: 3.7310e-04 - val_loss: 9.7596e-04\n",
      "Epoch 80/100\n",
      "1032/1032 [==============================] - 7s 7ms/step - loss: 3.4302e-04 - val_loss: 6.3039e-04\n",
      "Epoch 81/100\n",
      "1032/1032 [==============================] - 7s 7ms/step - loss: 3.1070e-04 - val_loss: 2.6662e-04\n",
      "Epoch 82/100\n",
      "1032/1032 [==============================] - 7s 7ms/step - loss: 3.1344e-04 - val_loss: 4.0124e-04\n",
      "Epoch 83/100\n",
      "1032/1032 [==============================] - 7s 7ms/step - loss: 3.1886e-04 - val_loss: 3.7785e-04\n",
      "Epoch 84/100\n",
      "1032/1032 [==============================] - 7s 7ms/step - loss: 3.2601e-04 - val_loss: 2.9724e-04\n",
      "Epoch 85/100\n",
      "1032/1032 [==============================] - 7s 7ms/step - loss: 3.3407e-04 - val_loss: 0.0018\n",
      "Epoch 86/100\n",
      "1032/1032 [==============================] - 7s 7ms/step - loss: 4.8807e-04 - val_loss: 2.2711e-04\n",
      "Epoch 87/100\n",
      "1032/1032 [==============================] - 7s 7ms/step - loss: 3.4510e-04 - val_loss: 1.9331e-04\n",
      "Epoch 88/100\n",
      "1032/1032 [==============================] - 7s 7ms/step - loss: 3.1668e-04 - val_loss: 1.8807e-04\n",
      "Epoch 89/100\n",
      "1032/1032 [==============================] - 7s 7ms/step - loss: 3.1430e-04 - val_loss: 5.3518e-04\n",
      "Epoch 90/100\n",
      "1032/1032 [==============================] - 7s 7ms/step - loss: 3.5485e-04 - val_loss: 3.9659e-04\n",
      "Epoch 91/100\n",
      "1032/1032 [==============================] - 7s 7ms/step - loss: 3.5004e-04 - val_loss: 8.1640e-04\n",
      "Epoch 92/100\n",
      "1032/1032 [==============================] - 7s 7ms/step - loss: 3.7922e-04 - val_loss: 0.0011\n",
      "Epoch 93/100\n",
      "1032/1032 [==============================] - 7s 7ms/step - loss: 4.9217e-04 - val_loss: 0.0022\n",
      "Epoch 94/100\n",
      "1032/1032 [==============================] - 7s 7ms/step - loss: 4.3765e-04 - val_loss: 1.9624e-04\n",
      "Epoch 95/100\n",
      "1032/1032 [==============================] - 7s 7ms/step - loss: 2.9977e-04 - val_loss: 1.8842e-04\n",
      "Epoch 96/100\n",
      "1032/1032 [==============================] - 7s 7ms/step - loss: 3.0468e-04 - val_loss: 5.5600e-04\n",
      "Epoch 97/100\n",
      "1032/1032 [==============================] - 7s 7ms/step - loss: 3.3667e-04 - val_loss: 9.7129e-04\n",
      "Epoch 98/100\n",
      "1032/1032 [==============================] - 7s 7ms/step - loss: 3.5672e-04 - val_loss: 2.4727e-04\n",
      "Epoch 99/100\n",
      "1032/1032 [==============================] - 7s 7ms/step - loss: 3.1015e-04 - val_loss: 2.1923e-04\n",
      "Epoch 100/100\n",
      "1032/1032 [==============================] - 7s 7ms/step - loss: 3.3369e-04 - val_loss: 3.5090e-04\n"
     ]
    },
    {
     "data": {
      "text/plain": [
       "<keras.callbacks.callbacks.History at 0x1c657e14f98>"
      ]
     },
     "execution_count": 23,
     "metadata": {},
     "output_type": "execute_result"
    }
   ],
   "source": [
    "regressor.fit(X_train, y_train,validation_data=(X_test,y_test), epochs = 100, batch_size = 32)"
   ]
  },
  {
   "cell_type": "markdown",
   "metadata": {
    "colab_type": "text",
    "id": "SgJO6qEDksxD"
   },
   "source": [
    "# Getting the real stock price"
   ]
  },
  {
   "cell_type": "code",
   "execution_count": 24,
   "metadata": {
    "colab": {},
    "colab_type": "code",
    "id": "FmBT2zqukxTz"
   },
   "outputs": [],
   "source": [
    "dataset_test = pd.read_csv('Google_Stock_Price_Test.csv')\n",
    "test_set = dataset_test.iloc[:, 1:2].values"
   ]
  },
  {
   "cell_type": "markdown",
   "metadata": {
    "colab_type": "text",
    "id": "GrvrLblxkz42"
   },
   "source": [
    "# Getting the predicted stock price "
   ]
  },
  {
   "cell_type": "code",
   "execution_count": 25,
   "metadata": {},
   "outputs": [
    {
     "data": {
      "text/plain": [
       "(20, 1)"
      ]
     },
     "execution_count": 25,
     "metadata": {},
     "output_type": "execute_result"
    }
   ],
   "source": [
    "test_set.shape"
   ]
  },
  {
   "cell_type": "code",
   "execution_count": 27,
   "metadata": {},
   "outputs": [],
   "source": [
    "ds = pd.concat((dataset_train['Open'], dataset_test['Open']), axis = 0)\n",
    "inputs = ds[len(ds) - len(dataset_test) - time_step:].values\n",
    "inputs = inputs.reshape(-1,1)\n",
    "inputs = sc.transform(inputs)\n",
    "X_test,_ = create_timesteps(inputs)\n",
    "X_test = np.reshape(X_test, (X_test.shape[0], X_test.shape[1], 1))\n",
    "pred = regressor.predict(X_test)\n",
    "pred = sc.inverse_transform(pred)\n",
    "y_test = test_set"
   ]
  },
  {
   "cell_type": "code",
   "execution_count": 28,
   "metadata": {},
   "outputs": [
    {
     "data": {
      "text/plain": [
       "(20, 100, 1)"
      ]
     },
     "execution_count": 28,
     "metadata": {},
     "output_type": "execute_result"
    }
   ],
   "source": [
    "X_test.shape"
   ]
  },
  {
   "cell_type": "markdown",
   "metadata": {
    "colab_type": "text",
    "id": "iFTNs3YHk6FQ"
   },
   "source": [
    "### Visualising the results"
   ]
  },
  {
   "cell_type": "code",
   "execution_count": 30,
   "metadata": {
    "colab": {
     "base_uri": "https://localhost:8080/",
     "height": 295
    },
    "colab_type": "code",
    "id": "8OUI8U49k9tH",
    "outputId": "db0ed15e-071b-4bae-955e-0eda3df95238"
   },
   "outputs": [
    {
     "data": {
      "image/png": "[encoded data removed]",
      "text/plain": [
       "<Figure size 432x288 with 1 Axes>"
      ]
     },
     "metadata": {
      "needs_background": "light"
     },
     "output_type": "display_data"
    }
   ],
   "source": [
    "plt.plot(y_test, color = 'red', label = 'Real Google Stock Price')\n",
    "plt.plot(pred, color = 'blue', label = 'Predicted Google Stock Price')\n",
    "plt.title('Google Stock Price Prediction')\n",
    "plt.xlabel('Time')\n",
    "plt.ylabel('Google Stock Price')\n",
    "plt.legend()\n",
    "plt.show()"
   ]
  },
  {
   "cell_type": "markdown",
   "metadata": {},
   "source": [
    "# RMSE "
   ]
  },
  {
   "cell_type": "code",
   "execution_count": 32,
   "metadata": {},
   "outputs": [
    {
     "data": {
      "text/plain": [
       "11.464164783982898"
      ]
     },
     "execution_count": 32,
     "metadata": {},
     "output_type": "execute_result"
    }
   ],
   "source": [
    "import math\n",
    "from sklearn.metrics import mean_squared_error\n",
    "math.sqrt(mean_squared_error(y_test,pred))"
   ]
  },
  {
   "cell_type": "code",
   "execution_count": null,
   "metadata": {},
   "outputs": [],
   "source": []
  }
 ],
 "metadata": {
  "colab": {
   "collapsed_sections": [],
   "name": "recurrent_neural_network.ipynb",
   "provenance": []
  },
  "kernelspec": {
   "display_name": "Python 3",
   "language": "python",
   "name": "python3"
  },
  "language_info": {
   "codemirror_mode": {
    "name": "ipython",
    "version": 3
   },
   "file_extension": ".py",
   "mimetype": "text/x-python",
   "name": "python",
   "nbconvert_exporter": "python",
   "pygments_lexer": "ipython3",
   "version": "3.6.9"
  }
 },
 "nbformat": 4,
 "nbformat_minor": 1
}
